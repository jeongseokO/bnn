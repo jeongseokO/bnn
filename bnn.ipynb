{
 "cells": [
  {
   "cell_type": "code",
   "execution_count": 6,
   "metadata": {},
   "outputs": [
    {
     "data": {
      "application/vnd.jupyter.widget-view+json": {
       "model_id": "85f01ee545b24605b73aa34aa9188dc3",
       "version_major": 2,
       "version_minor": 0
      },
      "text/plain": [
       "tokenizer_config.json:   0%|          | 0.00/49.0 [00:00<?, ?B/s]"
      ]
     },
     "metadata": {},
     "output_type": "display_data"
    },
    {
     "data": {
      "application/vnd.jupyter.widget-view+json": {
       "model_id": "1c7e87ead40b4059a728d43187ede861",
       "version_major": 2,
       "version_minor": 0
      },
      "text/plain": [
       "config.json:   0%|          | 0.00/433 [00:00<?, ?B/s]"
      ]
     },
     "metadata": {},
     "output_type": "display_data"
    },
    {
     "data": {
      "application/vnd.jupyter.widget-view+json": {
       "model_id": "aee8fa0a8e0b4705a7ceb26f2ba4847f",
       "version_major": 2,
       "version_minor": 0
      },
      "text/plain": [
       "vocab.txt:   0%|          | 0.00/255k [00:00<?, ?B/s]"
      ]
     },
     "metadata": {},
     "output_type": "display_data"
    },
    {
     "data": {
      "application/vnd.jupyter.widget-view+json": {
       "model_id": "21212f8e608644f8bfa3f57df89b30bd",
       "version_major": 2,
       "version_minor": 0
      },
      "text/plain": [
       "tokenizer.json:   0%|          | 0.00/485k [00:00<?, ?B/s]"
      ]
     },
     "metadata": {},
     "output_type": "display_data"
    },
    {
     "data": {
      "application/vnd.jupyter.widget-view+json": {
       "model_id": "d0ca679aa3784c29bc319ed576a5ceeb",
       "version_major": 2,
       "version_minor": 0
      },
      "text/plain": [
       "tokenizer_config.json:   0%|          | 0.00/48.0 [00:00<?, ?B/s]"
      ]
     },
     "metadata": {},
     "output_type": "display_data"
    },
    {
     "data": {
      "application/vnd.jupyter.widget-view+json": {
       "model_id": "adb9557baf3941e899dd06721d6c9caa",
       "version_major": 2,
       "version_minor": 0
      },
      "text/plain": [
       "config.json:   0%|          | 0.00/570 [00:00<?, ?B/s]"
      ]
     },
     "metadata": {},
     "output_type": "display_data"
    },
    {
     "data": {
      "application/vnd.jupyter.widget-view+json": {
       "model_id": "b7390df53c24403dbfb3c54e8e80138e",
       "version_major": 2,
       "version_minor": 0
      },
      "text/plain": [
       "vocab.txt:   0%|          | 0.00/232k [00:00<?, ?B/s]"
      ]
     },
     "metadata": {},
     "output_type": "display_data"
    },
    {
     "data": {
      "application/vnd.jupyter.widget-view+json": {
       "model_id": "bcb213c72c104c3f8fa702f4778c4159",
       "version_major": 2,
       "version_minor": 0
      },
      "text/plain": [
       "tokenizer.json:   0%|          | 0.00/466k [00:00<?, ?B/s]"
      ]
     },
     "metadata": {},
     "output_type": "display_data"
    },
    {
     "data": {
      "application/vnd.jupyter.widget-view+json": {
       "model_id": "f83fa2e689c54590abddc2ee1e5a7550",
       "version_major": 2,
       "version_minor": 0
      },
      "text/plain": [
       "Map:   0%|          | 0/1014 [00:00<?, ? examples/s]"
      ]
     },
     "metadata": {},
     "output_type": "display_data"
    },
    {
     "name": "stderr",
     "output_type": "stream",
     "text": [
      "/home/jeongseokoh/miniconda3/lib/python3.11/site-packages/transformers/tokenization_utils_base.py:3856: UserWarning: `as_target_tokenizer` is deprecated and will be removed in v5 of Transformers. You can tokenize your labels by using the argument `text_target` of the regular `__call__` method (either in the same call as your input texts if you use the same keyword arguments, or in a separate call.\n",
      "  warnings.warn(\n"
     ]
    }
   ],
   "source": [
    "import os\n",
    "os.environ[\"CUDA_VISIBLE_DEVICES\"] = \"2\"\n",
    "from torch.utils.data import DataLoader, Dataset\n",
    "import torch\n",
    "import torch.nn as nn\n",
    "import torch.optim as optim\n",
    "from datasets import load_dataset\n",
    "import torch.utils.data as data\n",
    "from transformers import AutoTokenizer\n",
    "import math\n",
    "import copy\n",
    "from torch.optim import Adam\n",
    "from torch.nn import CrossEntropyLoss\n",
    "import torch.nn.functional as F\n",
    "import time\n",
    "\n",
    "# 데이터셋 로드\n",
    "dataset = load_dataset(\"bentrevett/multi30k\", split='train', cache_dir=\"../../../data/jeongseokoh/dataset/\")\n",
    "val_dataset = load_dataset(\"bentrevett/multi30k\", split='validation', cache_dir=\"../../../data/jeongseokoh/dataset/\")\n",
    "\n",
    "# Hugging Face의 토크나이저 로드 (예: BERT의 토크나이저)\n",
    "tokenizer_src = AutoTokenizer.from_pretrained(\"bert-base-german-cased\")\n",
    "tokenizer_tgt = AutoTokenizer.from_pretrained(\"bert-base-uncased\")\n",
    "\n",
    "# 토큰화 함수\n",
    "def tokenize_function(examples):\n",
    "    # 영어(en)와 독일어(de) 텍스트에 대한 토크나이징 수행\n",
    "    tokenized_inputs = tokenizer_src(examples[\"de\"], padding=\"max_length\", truncation=True, max_length=128)\n",
    "    # 타겟 토크나이저로 영어 텍스트 토크나이징\n",
    "    with tokenizer_tgt.as_target_tokenizer():\n",
    "        tokenized_targets = tokenizer_tgt(examples[\"en\"], padding=\"max_length\", truncation=True, max_length=128)\n",
    "    \n",
    "    # 모델 입력을 위한 tokenized_inputs 반환 및 레이블(labels)로 tokenized_targets[\"input_ids\"] 설정\n",
    "    tokenized_inputs[\"labels\"] = tokenized_targets[\"input_ids\"]\n",
    "    return tokenized_inputs\n",
    "def collate_fn(batch):\n",
    "    input_ids = torch.tensor([item['input_ids'] for item in batch])\n",
    "    labels = torch.tensor([item['labels'] for item in batch])\n",
    "    return {\"input_ids\": input_ids, \"labels\": labels}\n",
    "# 데이터셋에 토큰화 함수 적용\n",
    "tokenized_datasets = dataset.map(tokenize_function, batched=True)\n",
    "val_tokenized_datasets = val_dataset.map(tokenize_function, batched=True)\n",
    "# DataLoader 재정의\n",
    "dataloader = DataLoader(tokenized_datasets, batch_size=32, shuffle=True, collate_fn=collate_fn)\n",
    "val_dataloader = DataLoader(val_tokenized_datasets, batch_size=32, shuffle=True, collate_fn=collate_fn)"
   ]
  },
  {
   "cell_type": "code",
   "execution_count": 7,
   "metadata": {},
   "outputs": [],
   "source": [
    "class MultiHeadAttention(nn.Module):\n",
    "    def __init__(self, d_model, num_heads):\n",
    "        super(MultiHeadAttention, self).__init__()\n",
    "        assert d_model % num_heads == 0, \"d_model must be divisible by num_heads\"\n",
    "        #print(f\"d_model : {d_model}\")\n",
    "        self.d_model = d_model\n",
    "        self.num_heads = num_heads\n",
    "        self.d_k = d_model // num_heads\n",
    "        \n",
    "        self.W_q = nn.Linear(d_model, d_model)\n",
    "        self.W_k = nn.Linear(d_model, d_model)\n",
    "        self.W_v = nn.Linear(d_model, d_model)\n",
    "        self.W_o = nn.Linear(d_model, d_model)\n",
    "        \n",
    "    def scaled_dot_product_attention(self, Q, K, V, mask=None):\n",
    "        attn_scores = torch.matmul(Q, K.transpose(-2, -1)) / math.sqrt(self.d_k)\n",
    "        if mask is not None:\n",
    "            attn_scores = attn_scores.masked_fill(mask == 0, -1e9)\n",
    "        attn_probs = torch.softmax(attn_scores, dim=-1)\n",
    "        output = torch.matmul(attn_probs, V)\n",
    "        return output\n",
    "        \n",
    "    def split_heads(self, x):\n",
    "        batch_size, seq_length, d_model = x.size()\n",
    "        return x.view(batch_size, seq_length, self.num_heads, self.d_k).transpose(1, 2)\n",
    "        \n",
    "    def combine_heads(self, x):\n",
    "        batch_size, _, seq_length, d_k = x.size()\n",
    "        return x.transpose(1, 2).contiguous().view(batch_size, seq_length, self.d_model)\n",
    "        \n",
    "    def forward(self, Q, K, V, mask=None):\n",
    "        #print(f\"Q: {Q.shape}\")\n",
    "\n",
    "        Q = self.split_heads(self.W_q(Q))\n",
    "        K = self.split_heads(self.W_k(K))\n",
    "        V = self.split_heads(self.W_v(V))\n",
    "        \n",
    "        attn_output = self.scaled_dot_product_attention(Q, K, V, mask)\n",
    "        output = self.W_o(self.combine_heads(attn_output))\n",
    "        #print(f\"Output: {output.shape}\")\n",
    "        return output\n",
    "class PositionWiseFeedForward(nn.Module):\n",
    "    def __init__(self, d_model, d_ff):\n",
    "        super(PositionWiseFeedForward, self).__init__()\n",
    "        self.fc1 = nn.Linear(d_model, d_ff)\n",
    "        self.fc2 = nn.Linear(d_ff, d_model)\n",
    "        self.relu = nn.ReLU()\n",
    "\n",
    "    def forward(self, x):\n",
    "        return self.fc2(self.relu(self.fc1(x)))\n",
    "    \n",
    "class PositionalEncoding(nn.Module):\n",
    "    def __init__(self, d_model, max_seq_length):\n",
    "        super(PositionalEncoding, self).__init__()\n",
    "        \n",
    "        pe = torch.zeros(max_seq_length, d_model)\n",
    "        position = torch.arange(0, max_seq_length, dtype=torch.float).unsqueeze(1)\n",
    "        div_term = torch.exp(torch.arange(0, d_model, 2).float() * -(math.log(10000.0) / d_model))\n",
    "        \n",
    "        pe[:, 0::2] = torch.sin(position * div_term)\n",
    "        pe[:, 1::2] = torch.cos(position * div_term)\n",
    "        \n",
    "        self.register_buffer('pe', pe.unsqueeze(0))\n",
    "        \n",
    "    def forward(self, x):\n",
    "        #print((x + self.pe[:, :x.size(1)]).shape)\n",
    "        return x + self.pe[:, :x.size(1)]\n",
    "class CustomWeightLayer(nn.Module):\n",
    "    def __init__(self, d_model, num_heads, tokens):\n",
    "        super(CustomWeightLayer, self).__init__()\n",
    "        self.d_model = d_model\n",
    "        self.tokens = tokens\n",
    "        self.out_dim1 = 3 * self.tokens - 1\n",
    "        self.out_dim2 = self.d_model\n",
    "        self.relu = nn.ReLU()\n",
    "\n",
    "        # 가중치 및 바이어스 초기화를 더 효율적으로 수행\n",
    "        self.expand_w = nn.Parameter(torch.randn(self.out_dim1, self.tokens) * 0.01)\n",
    "        self.expand_bias = nn.Parameter(torch.zeros(self.out_dim1))\n",
    "        self.feature1_w = nn.Parameter(torch.randn(self.out_dim2, self.d_model) * 0.01)\n",
    "        self.feature1_bias = nn.Parameter(torch.zeros(self.out_dim2))\n",
    "        self.shrink_w = nn.Parameter(torch.randn(self.tokens, self.out_dim1) * 0.01)\n",
    "        self.shrink_bias = nn.Parameter(torch.zeros(self.tokens))\n",
    "        self.feature2_w = nn.Parameter(torch.randn(self.d_model, self.out_dim2) * 0.01)\n",
    "        self.feature2_bias = nn.Parameter(torch.zeros(self.d_model))\n",
    "        # 가중치에서 특정 패턴을 0으로 설정\n",
    "        self._init_weights()\n",
    "    \n",
    "    def _init_weights(self):\n",
    "        # expand_w와 shrink_w의 특정 패턴을 0으로 초기화\n",
    "        with torch.no_grad():\n",
    "            for i in range(self.tokens):\n",
    "                for j in range(self.tokens - 1):\n",
    "                    self.expand_w.data[i - self.tokens + 1 + j, i] = 0.0\n",
    "                    self.shrink_w.data[i, i - self.tokens + 1 + j] = 0.0\n",
    "\n",
    "    def forward(self, x, mask=None):\n",
    "        if mask is not None:\n",
    "            mask = mask.squeeze(1).squeeze(1)  # 두 번째와 세 번째 차원을 제거\n",
    "            mask = mask.unsqueeze(-1)  # 마지막 차원에 차원 추가\n",
    "            x = x * mask.float()\n",
    "        # 텐서 조작을 최소화하고, 불필요한 전치를 피함\n",
    "        x = F.linear(x, self.feature1_w, self.feature1_bias)\n",
    "        x = F.linear(x.transpose(1, 2), self.expand_w, self.expand_bias)\n",
    "        x = self.relu(x)\n",
    "        \n",
    "        x = F.linear(x, self.shrink_w, self.shrink_bias).transpose(1, 2)\n",
    "        x = F.linear(x, self.feature2_w, self.feature2_bias)\n",
    "\n",
    "        return x\n",
    "\n",
    "class EncoderLayer(nn.Module):\n",
    "    def __init__(self, d_model, num_heads, d_ff, dropout, tokens):\n",
    "        super(EncoderLayer, self).__init__()\n",
    "        self.tokens = tokens\n",
    "        self.custom = CustomWeightLayer(d_model, num_heads, self.tokens)\n",
    "        self.feed_forward = PositionWiseFeedForward(d_model, d_ff)\n",
    "        self.norm1 = nn.LayerNorm(d_model)\n",
    "        self.norm2 = nn.LayerNorm(d_model)\n",
    "        self.dropout = nn.Dropout(dropout)\n",
    "        \n",
    "    def forward(self, x, mask):\n",
    "        our_output = self.custom(x, mask)\n",
    "        x = self.norm1(x + self.dropout(our_output))\n",
    "        ff_output = self.feed_forward(x)\n",
    "        x = self.norm2(x + self.dropout(ff_output))\n",
    "        return x\n",
    "class DecoderLayer(nn.Module):\n",
    "    def __init__(self, d_model, num_heads, d_ff, dropout):\n",
    "        super(DecoderLayer, self).__init__()\n",
    "        self.self_attn = MultiHeadAttention(d_model, num_heads)\n",
    "        self.cross_attn = MultiHeadAttention(d_model, num_heads)\n",
    "        self.feed_forward = PositionWiseFeedForward(d_model, d_ff)\n",
    "        self.norm1 = nn.LayerNorm(d_model)\n",
    "        self.norm2 = nn.LayerNorm(d_model)\n",
    "        self.norm3 = nn.LayerNorm(d_model)\n",
    "        self.dropout = nn.Dropout(dropout)\n",
    "        \n",
    "    def forward(self, x, enc_output, src_mask, tgt_mask):\n",
    "        attn_output = self.self_attn(x, x, x, tgt_mask)\n",
    "        x = self.norm1(x + self.dropout(attn_output))\n",
    "        attn_output = self.cross_attn(x, enc_output, enc_output, src_mask)\n",
    "        x = self.norm2(x + self.dropout(attn_output))\n",
    "        ff_output = self.feed_forward(x)\n",
    "        x = self.norm3(x + self.dropout(ff_output))\n",
    "        return x"
   ]
  },
  {
   "cell_type": "code",
   "execution_count": 8,
   "metadata": {},
   "outputs": [
    {
     "name": "stderr",
     "output_type": "stream",
     "text": [
      "Train Iteration: 100%|██████████| 907/907 [03:01<00:00,  5.01it/s]\n"
     ]
    },
    {
     "name": "stdout",
     "output_type": "stream",
     "text": [
      "Epoch: 1, Avg Train Loss: 3.4808\n"
     ]
    },
    {
     "name": "stderr",
     "output_type": "stream",
     "text": [
      "Val Iteration: 100%|██████████| 32/32 [00:02<00:00, 13.29it/s]\n"
     ]
    },
    {
     "name": "stdout",
     "output_type": "stream",
     "text": [
      "Epoch: 1, Avg Validation Loss: 3.5710\n"
     ]
    },
    {
     "name": "stderr",
     "output_type": "stream",
     "text": [
      "Train Iteration: 100%|██████████| 907/907 [03:00<00:00,  5.01it/s]\n"
     ]
    },
    {
     "name": "stdout",
     "output_type": "stream",
     "text": [
      "Epoch: 2, Avg Train Loss: 2.2345\n"
     ]
    },
    {
     "name": "stderr",
     "output_type": "stream",
     "text": [
      "Val Iteration: 100%|██████████| 32/32 [00:02<00:00, 13.23it/s]\n"
     ]
    },
    {
     "name": "stdout",
     "output_type": "stream",
     "text": [
      "Epoch: 2, Avg Validation Loss: 2.3085\n"
     ]
    },
    {
     "name": "stderr",
     "output_type": "stream",
     "text": [
      "Train Iteration: 100%|██████████| 907/907 [03:00<00:00,  5.03it/s]\n"
     ]
    },
    {
     "name": "stdout",
     "output_type": "stream",
     "text": [
      "Epoch: 3, Avg Train Loss: 1.7740\n"
     ]
    },
    {
     "name": "stderr",
     "output_type": "stream",
     "text": [
      "Val Iteration: 100%|██████████| 32/32 [00:02<00:00, 13.29it/s]\n"
     ]
    },
    {
     "name": "stdout",
     "output_type": "stream",
     "text": [
      "Epoch: 3, Avg Validation Loss: 1.8410\n"
     ]
    },
    {
     "name": "stderr",
     "output_type": "stream",
     "text": [
      "Train Iteration:   1%|          | 7/907 [00:01<02:58,  5.04it/s]"
     ]
    }
   ],
   "source": [
    "from tqdm import tqdm\n",
    "class Transformer(nn.Module):\n",
    "    def __init__(self, src_vocab_size, tgt_vocab_size, d_model, num_heads, num_layers, d_ff, max_seq_length, dropout):\n",
    "        super(Transformer, self).__init__()\n",
    "        self.encoder_embedding = nn.Embedding(src_vocab_size, d_model)\n",
    "        self.decoder_embedding = nn.Embedding(tgt_vocab_size, d_model)\n",
    "        self.positional_encoding = PositionalEncoding(d_model, max_seq_length)\n",
    "        self.encoder_layers = nn.ModuleList([EncoderLayer(d_model, num_heads, d_ff, dropout, max_seq_length) for _ in range(num_layers)])\n",
    "        self.decoder_layers = nn.ModuleList([DecoderLayer(d_model, num_heads, d_ff, dropout) for _ in range(num_layers)])\n",
    "        \n",
    "        self.fc = nn.Linear(d_model, tgt_vocab_size)\n",
    "        self.dropout = nn.Dropout(dropout)\n",
    "\n",
    "    def generate_mask(self, src, tgt):\n",
    "        src_mask = (src != 0).unsqueeze(1).unsqueeze(2).to(device)\n",
    "        tgt_mask = (tgt != 0).unsqueeze(1).unsqueeze(3).to(device)\n",
    "        seq_length = tgt.size(1)\n",
    "        nopeak_mask = (1 - torch.triu(torch.ones(1, seq_length, seq_length), diagonal=1)).bool().to(device)\n",
    "        tgt_mask = tgt_mask & nopeak_mask\n",
    "        return src_mask, tgt_mask\n",
    "\n",
    "    def forward(self, src, tgt):\n",
    "        src_mask, tgt_mask = self.generate_mask(src, tgt)\n",
    "        src_embedded = self.dropout(self.positional_encoding(self.encoder_embedding(src)))\n",
    "        tgt_embedded = self.dropout(self.positional_encoding(self.decoder_embedding(tgt)))\n",
    "\n",
    "        enc_output = src_embedded\n",
    "        for enc_layer in self.encoder_layers:\n",
    "            enc_output = enc_layer(enc_output, src_mask)\n",
    "\n",
    "        dec_output = tgt_embedded\n",
    "        for dec_layer in self.decoder_layers:\n",
    "            dec_output = dec_layer(dec_output, enc_output, src_mask, tgt_mask)\n",
    "\n",
    "        output = self.fc(dec_output)\n",
    "        return output\n",
    "device = torch.device(\"cuda\" if torch.cuda.is_available() else \"cpu\")\n",
    "src_vocab_size = tokenizer_src.vocab_size\n",
    "tgt_vocab_size = tokenizer_tgt.vocab_size\n",
    "d_model = 768  # BERT의 경우\n",
    "num_heads = 8\n",
    "num_layers = 6\n",
    "d_ff = 2048\n",
    "max_seq_length = 128\n",
    "dropout = 0.1\n",
    "\n",
    "# 모델 초기화\n",
    "transformer = Transformer(\n",
    "    src_vocab_size=src_vocab_size,\n",
    "    tgt_vocab_size=tgt_vocab_size,\n",
    "    d_model=d_model,\n",
    "    num_heads=num_heads,\n",
    "    num_layers=num_layers,\n",
    "    d_ff=d_ff,\n",
    "    max_seq_length=max_seq_length,\n",
    "    dropout=dropout\n",
    ").to(device)\n",
    "\n",
    "# 손실 함수 및 옵티마이저 정의\n",
    "criterion = nn.CrossEntropyLoss(ignore_index=tokenizer_tgt.pad_token_id)\n",
    "optimizer = optim.Adam(transformer.parameters(), lr=0.0001, betas=(0.9, 0.98), eps=1e-9)\n",
    "\n",
    "# 모델 학습\n",
    "transformer.train()\n",
    "\n",
    "start_time = time.time()\n",
    "\n",
    "for epoch in range(1, 11):  # 에폭 수를 조정할 수 있습니다.\n",
    "    total_loss = 0\n",
    "    for batch in tqdm(dataloader, desc=\"Train Iteration\"):\n",
    "        src = batch['input_ids'].to(device)  # 장치로 이동\n",
    "        tgt = batch['labels'].to(device)     # 장치로 이동\n",
    "\n",
    "        optimizer.zero_grad()\n",
    "        output = transformer(src, tgt[:, :-1])\n",
    "        loss = criterion(output.reshape(-1, tgt_vocab_size), tgt[:, 1:].reshape(-1))\n",
    "        loss.backward()\n",
    "        optimizer.step()\n",
    "        \n",
    "        total_loss += loss.item()\n",
    "\n",
    "    avg_loss = total_loss / len(dataloader)\n",
    "    print(f\"Epoch: {epoch}, Avg Train Loss: {avg_loss:.4f}\")\n",
    "    for batch in tqdm(val_dataloader, desc=\"Val Iteration\"):\n",
    "        src = batch['input_ids'].to(device)  # 장치로 이동\n",
    "        tgt = batch['labels'].to(device)     # 장치로 이동\n",
    "\n",
    "        with torch.no_grad():\n",
    "            output = transformer(src, tgt[:, :-1])\n",
    "            loss = criterion(output.reshape(-1, tgt_vocab_size), tgt[:, 1:].reshape(-1))\n",
    "        \n",
    "        total_loss += loss.item()\n",
    "\n",
    "    avg_loss = total_loss / len(dataloader)\n",
    "    print(f\"Epoch: {epoch}, Avg Validation Loss: {avg_loss:.4f}\")\n",
    "end_time = time.time()\n",
    "print(f\"총 시간: {end_time - start_time} sec\")\n"
   ]
  },
  {
   "cell_type": "code",
   "execution_count": 65,
   "metadata": {},
   "outputs": [
    {
     "data": {
      "text/plain": [
       "torch.Size([2, 4])"
      ]
     },
     "execution_count": 65,
     "metadata": {},
     "output_type": "execute_result"
    }
   ],
   "source": [
    "for batch in tqdm(dataloader, desc=\"Iteration\"):\n",
    "    src = batch['input_ids'].to(device)  # 장치로 이동\n",
    "    tgt = batch['labels'].to(device)  \n",
    "    output = transformer(src, tgt[:, :-1])\n",
    "    # 가장 확률이 높은 토큰의 인덱스를 선택\n",
    "    predicted_indices = torch.argmax(output, dim=-1)\n",
    "\n",
    "    # 결과를 저장할 리스트 초기화\n",
    "    generated_texts = []\n",
    "\n",
    "    # 배치 내의 각 시퀀스에 대해 반복\n",
    "    for i in range(predicted_indices.size(0)):\n",
    "        # 토크나이저를 사용하여 인덱스를 텍스트로 변환\n",
    "        generated_text = tokenizer_tgt.decode(predicted_indices[i], skip_special_tokens=True)\n",
    "        generated_texts.append(generated_text)\n",
    "\n",
    "    # 생성된 텍스트 출력\n",
    "    for text in generated_texts:\n",
    "        print(text)"
   ]
  },
  {
   "cell_type": "markdown",
   "metadata": {},
   "source": [
    "# Decoding Building"
   ]
  },
  {
   "cell_type": "code",
   "execution_count": null,
   "metadata": {},
   "outputs": [],
   "source": [
    "class MultiHeadAttention(nn.Module):\n",
    "    def __init__(self, d_model, num_heads):\n",
    "        super(MultiHeadAttention, self).__init__()\n",
    "        assert d_model % num_heads == 0, \"d_model must be divisible by num_heads\"\n",
    "        #print(f\"d_model : {d_model}\")\n",
    "        self.d_model = d_model\n",
    "        self.num_heads = num_heads\n",
    "        self.d_k = d_model // num_heads\n",
    "        \n",
    "        self.W_q = nn.Linear(d_model, d_model)\n",
    "        self.W_k = nn.Linear(d_model, d_model)\n",
    "        self.W_v = nn.Linear(d_model, d_model)\n",
    "        self.W_o = nn.Linear(d_model, d_model)\n",
    "        \n",
    "    def scaled_dot_product_attention(self, Q, K, V, mask=None):\n",
    "        attn_scores = torch.matmul(Q, K.transpose(-2, -1)) / math.sqrt(self.d_k)\n",
    "        if mask is not None:\n",
    "            attn_scores = attn_scores.masked_fill(mask == 0, -1e9)\n",
    "        attn_probs = torch.softmax(attn_scores, dim=-1)\n",
    "        output = torch.matmul(attn_probs, V)\n",
    "        return output\n",
    "        \n",
    "    def split_heads(self, x):\n",
    "        batch_size, seq_length, d_model = x.size()\n",
    "        return x.view(batch_size, seq_length, self.num_heads, self.d_k).transpose(1, 2)\n",
    "        \n",
    "    def combine_heads(self, x):\n",
    "        batch_size, _, seq_length, d_k = x.size()\n",
    "        return x.transpose(1, 2).contiguous().view(batch_size, seq_length, self.d_model)\n",
    "        \n",
    "    def forward(self, Q, K, V, mask=None):\n",
    "        #print(f\"Q: {Q.shape}\")\n",
    "\n",
    "        Q = self.split_heads(self.W_q(Q))\n",
    "        K = self.split_heads(self.W_k(K))\n",
    "        V = self.split_heads(self.W_v(V))\n",
    "        \n",
    "        attn_output = self.scaled_dot_product_attention(Q, K, V, mask)\n",
    "        output = self.W_o(self.combine_heads(attn_output))\n",
    "        #print(f\"Output: {output.shape}\")\n",
    "        return output\n",
    "class PositionWiseFeedForward(nn.Module):\n",
    "    def __init__(self, d_model, d_ff):\n",
    "        super(PositionWiseFeedForward, self).__init__()\n",
    "        self.fc1 = nn.Linear(d_model, d_ff)\n",
    "        self.fc2 = nn.Linear(d_ff, d_model)\n",
    "        self.relu = nn.ReLU()\n",
    "\n",
    "    def forward(self, x):\n",
    "        return self.fc2(self.relu(self.fc1(x)))\n",
    "    \n",
    "class PositionalEncoding(nn.Module):\n",
    "    def __init__(self, d_model, max_seq_length):\n",
    "        super(PositionalEncoding, self).__init__()\n",
    "        \n",
    "        pe = torch.zeros(max_seq_length, d_model)\n",
    "        position = torch.arange(0, max_seq_length, dtype=torch.float).unsqueeze(1)\n",
    "        div_term = torch.exp(torch.arange(0, d_model, 2).float() * -(math.log(10000.0) / d_model))\n",
    "        \n",
    "        pe[:, 0::2] = torch.sin(position * div_term)\n",
    "        pe[:, 1::2] = torch.cos(position * div_term)\n",
    "        \n",
    "        self.register_buffer('pe', pe.unsqueeze(0))\n",
    "        \n",
    "    def forward(self, x):\n",
    "        #print((x + self.pe[:, :x.size(1)]).shape)\n",
    "        return x + self.pe[:, :x.size(1)]\n",
    "class CustomWeightLayer(nn.Module):\n",
    "    def __init__(self, d_model, num_heads, tokens):\n",
    "        super(CustomWeightLayer, self).__init__()\n",
    "        self.d_model = d_model\n",
    "        self.tokens = tokens\n",
    "        self.out_dim1 = 3 * self.tokens - 1\n",
    "        self.out_dim2 = self.d_model\n",
    "        self.relu = nn.ReLU()\n",
    "\n",
    "        # 가중치 및 바이어스 초기화를 더 효율적으로 수행\n",
    "        self.expand_w = nn.Parameter(torch.randn(self.out_dim1, self.tokens) * 0.01)\n",
    "        self.expand_bias = nn.Parameter(torch.zeros(self.out_dim1))\n",
    "        self.feature1_w = nn.Parameter(torch.randn(self.out_dim2, self.d_model) * 0.01)\n",
    "        self.feature1_bias = nn.Parameter(torch.zeros(self.out_dim2))\n",
    "        self.shrink_w = nn.Parameter(torch.randn(self.tokens, self.out_dim1) * 0.01)\n",
    "        self.shrink_bias = nn.Parameter(torch.zeros(self.tokens))\n",
    "        self.feature2_w = nn.Parameter(torch.randn(self.d_model, self.out_dim2) * 0.01)\n",
    "        self.feature2_bias = nn.Parameter(torch.zeros(self.d_model))\n",
    "        # 가중치에서 특정 패턴을 0으로 설정\n",
    "        self._init_weights()\n",
    "    \n",
    "    def _init_weights(self):\n",
    "        # expand_w와 shrink_w의 특정 패턴을 0으로 초기화\n",
    "        with torch.no_grad():\n",
    "            for i in range(self.tokens):\n",
    "                for j in range(self.tokens - 1):\n",
    "                    self.expand_w.data[i - self.tokens + 1 + j, i] = 0.0\n",
    "                    self.shrink_w.data[i, i - self.tokens + 1 + j] = 0.0\n",
    "\n",
    "    def forward(self, x, mask=None):\n",
    "        if mask is not None:\n",
    "            mask = mask.squeeze(1).squeeze(1)  # 두 번째와 세 번째 차원을 제거\n",
    "            mask = mask.unsqueeze(-1)  # 마지막 차원에 차원 추가\n",
    "            x = x * mask.float()\n",
    "        # 텐서 조작을 최소화하고, 불필요한 전치를 피함\n",
    "        x = F.linear(x, self.feature1_w, self.feature1_bias)\n",
    "        x = F.linear(x.transpose(1, 2), self.expand_w, self.expand_bias)\n",
    "        x = self.relu(x)\n",
    "        \n",
    "        x = F.linear(x, self.shrink_w, self.shrink_bias).transpose(1, 2)\n",
    "        x = F.linear(x, self.feature2_w, self.feature2_bias)\n",
    "\n",
    "        return x\n",
    "class CustomDecoderWeightLayer(nn.Module):\n",
    "    def __init__(self, d_model, num_heads, tokens):\n",
    "        super(CustomDecoderWeightLayer, self).__init__()\n",
    "        self.d_model = d_model\n",
    "        # tokens를 2배로 늘린 것을 고려\n",
    "        self.tokens = tokens\n",
    "        self.doubled_tokens = tokens * 2  # 토큰 수 2배\n",
    "        self.out_dim1 = 3 * self.doubled_tokens - 1\n",
    "        self.out_dim2 = self.d_model\n",
    "        self.relu = nn.ReLU()\n",
    "\n",
    "        # 가중치 및 바이어스 초기화\n",
    "        self.expand_w = nn.Parameter(torch.randn(self.out_dim1, self.doubled_tokens) * 0.01)\n",
    "        self.expand_bias = nn.Parameter(torch.zeros(self.out_dim1))\n",
    "        self.feature1_w = nn.Parameter(torch.randn(self.out_dim2, self.d_model) * 0.01)\n",
    "        self.feature1_bias = nn.Parameter(torch.zeros(self.out_dim2))\n",
    "        self.shrink_w = nn.Parameter(torch.randn(tokens, self.out_dim1) * 0.01)\n",
    "        self.shrink_bias = nn.Parameter(torch.zeros(tokens))\n",
    "        self.feature2_w = nn.Parameter(torch.randn(self.d_model, self.out_dim2) * 0.01)\n",
    "        self.feature2_bias = nn.Parameter(torch.zeros(self.d_model))\n",
    "        self._init_weights()\n",
    "    \n",
    "    def _init_weights(self):\n",
    "        # expand_w와 shrink_w의 특정 패턴을 0으로 초기화\n",
    "        with torch.no_grad():\n",
    "            for i in range(self.doubled_tokens):\n",
    "                for j in range(self.doubled_tokens - 1):\n",
    "                    self.expand_w.data[i - self.doubled_tokens + 1 + j, i] = 0.0\n",
    "            for i in range(self.tokens):\n",
    "                for j in range(self.tokens - 1):\n",
    "                    self.shrink_w.data[i, i - self.tokens + 1 + j] = 0.0\n",
    "\n",
    "    def forward(self, x):\n",
    "        batch_size, tokens, features = x.size()\n",
    "        # 입력 x의 토큰 수를 2배로 늘림\n",
    "        zeros_tensor = torch.zeros(batch_size, tokens, features, device=x.device)\n",
    "        # x와 zeros_tensor를 결합\n",
    "        doubled_x = torch.cat([x, zeros_tensor], dim=1)\n",
    "\n",
    "        # 변형된 입력 텐서를 사용하여 나머지 레이어 연산 수행\n",
    "        x = F.linear(doubled_x, self.feature1_w, self.feature1_bias)\n",
    "        x = F.linear(x.transpose(1, 2), self.expand_w, self.expand_bias)\n",
    "        x = self.relu(x)\n",
    "        x = F.linear(x, self.shrink_w, self.shrink_bias).transpose(1, 2)\n",
    "        x = F.linear(x, self.feature2_w, self.feature2_bias)\n",
    "        #print(x.shape)\n",
    "        return x\n",
    "class EncoderLayer(nn.Module):\n",
    "    def __init__(self, d_model, num_heads, d_ff, dropout, tokens):\n",
    "        super(EncoderLayer, self).__init__()\n",
    "        self.tokens = tokens\n",
    "        self.custom = CustomWeightLayer(d_model, num_heads, self.tokens)\n",
    "        self.feed_forward = PositionWiseFeedForward(d_model, d_ff)\n",
    "        self.norm1 = nn.LayerNorm(d_model)\n",
    "        self.norm2 = nn.LayerNorm(d_model)\n",
    "        self.dropout = nn.Dropout(dropout)\n",
    "        \n",
    "    def forward(self, x, mask):\n",
    "        our_output = self.custom(x, mask)\n",
    "        x = self.norm1(x + self.dropout(our_output))\n",
    "        ff_output = self.feed_forward(x)\n",
    "        x = self.norm2(x + self.dropout(ff_output))\n",
    "        return x\n",
    "class DecoderLayer(nn.Module):\n",
    "    def __init__(self, d_model, num_heads, d_ff, dropout, tokens):\n",
    "        super(DecoderLayer, self).__init__()\n",
    "        self.tokens = tokens\n",
    "        self.custom_decoder = CustomDecoderWeightLayer(d_model, num_heads, self.tokens)\n",
    "        self.feed_forward = PositionWiseFeedForward(d_model, d_ff)\n",
    "        self.norm1 = nn.LayerNorm(d_model)\n",
    "        self.norm2 = nn.LayerNorm(d_model)\n",
    "        self.norm3 = nn.LayerNorm(d_model)\n",
    "        self.dropout = nn.Dropout(dropout)\n",
    "        \n",
    "    def forward(self, x, enc_output, src_mask, tgt_mask):\n",
    "        custom_output = self.custom_decoder(enc_output)\n",
    "        batch_size, tokens, features = x.size()\n",
    "        x = self.norm2(self.dropout(custom_output))\n",
    "        ff_output = self.feed_forward(x)\n",
    "        x = self.norm3(x + self.dropout(ff_output))\n",
    "        return x"
   ]
  },
  {
   "cell_type": "code",
   "execution_count": null,
   "metadata": {},
   "outputs": [],
   "source": [
    "class Transformer(nn.Module):\n",
    "    def __init__(self, src_vocab_size, tgt_vocab_size, d_model, num_heads, num_layers, d_ff, max_seq_length, dropout):\n",
    "        super(Transformer, self).__init__()\n",
    "        self.encoder_embedding = nn.Embedding(src_vocab_size, d_model)\n",
    "        self.decoder_embedding = nn.Embedding(tgt_vocab_size, d_model)\n",
    "        self.positional_encoding = PositionalEncoding(d_model, max_seq_length)\n",
    "        self.encoder_layers = nn.ModuleList([EncoderLayer(d_model, num_heads, d_ff, dropout, max_seq_length) for _ in range(num_layers)])\n",
    "        self.decoder_layers = nn.ModuleList([DecoderLayer(d_model, num_heads, d_ff, dropout, max_seq_length) for _ in range(num_layers)])\n",
    "        \n",
    "        self.fc = nn.Linear(d_model, tgt_vocab_size)\n",
    "        self.dropout = nn.Dropout(dropout)\n",
    "\n",
    "    def generate_mask(self, src, tgt):\n",
    "        src_mask = (src != 0).unsqueeze(1).unsqueeze(2).to(device)\n",
    "        tgt_mask = (tgt != 0).unsqueeze(1).unsqueeze(3).to(device)\n",
    "        seq_length = tgt.size(1)\n",
    "        nopeak_mask = (1 - torch.triu(torch.ones(1, seq_length, seq_length), diagonal=1)).bool().to(device)\n",
    "        tgt_mask = tgt_mask & nopeak_mask\n",
    "        return src_mask, tgt_mask\n",
    "\n",
    "    def forward(self, src, tgt):\n",
    "        src_mask, tgt_mask = self.generate_mask(src, tgt)\n",
    "        src_embedded = self.dropout(self.positional_encoding(self.encoder_embedding(src)))\n",
    "        tgt_embedded = self.dropout(self.positional_encoding(self.decoder_embedding(tgt)))\n",
    "\n",
    "        enc_output = src_embedded\n",
    "        for enc_layer in self.encoder_layers:\n",
    "            enc_output = enc_layer(enc_output, src_mask)\n",
    "\n",
    "        dec_output = tgt_embedded\n",
    "        for dec_layer in self.decoder_layers:\n",
    "            dec_output = dec_layer(dec_output, enc_output, src_mask, tgt_mask)\n",
    "\n",
    "        output = self.fc(dec_output)\n",
    "        return output\n",
    "device = torch.device(\"cuda\" if torch.cuda.is_available() else \"cpu\")\n",
    "src_vocab_size = tokenizer_src.vocab_size\n",
    "tgt_vocab_size = tokenizer_tgt.vocab_size\n",
    "d_model = 768  # BERT의 경우\n",
    "num_heads = 8\n",
    "num_layers = 6\n",
    "d_ff = 2048\n",
    "max_seq_length = 128\n",
    "dropout = 0.1\n",
    "\n",
    "# 모델 초기화\n",
    "transformer = Transformer(\n",
    "    src_vocab_size=src_vocab_size,\n",
    "    tgt_vocab_size=tgt_vocab_size,\n",
    "    d_model=d_model,\n",
    "    num_heads=num_heads,\n",
    "    num_layers=num_layers,\n",
    "    d_ff=d_ff,\n",
    "    max_seq_length=max_seq_length,\n",
    "    dropout=dropout\n",
    ").to(device)\n",
    "\n",
    "# 손실 함수 및 옵티마이저 정의\n",
    "criterion = nn.CrossEntropyLoss(ignore_index=tokenizer_tgt.pad_token_id)\n",
    "optimizer = optim.Adam(transformer.parameters(), lr=0.0001, betas=(0.9, 0.98), eps=1e-9)\n",
    "\n",
    "# 모델 학습\n",
    "transformer.train()\n",
    "\n",
    "start_time = time.time()\n",
    "\n",
    "for epoch in range(1, 11):  # 에폭 수를 조정할 수 있습니다.\n",
    "    total_loss = 0\n",
    "    for batch in tqdm(dataloader, desc=\"Iteration\"):\n",
    "        src = batch['input_ids'].to(device)  # 장치로 이동\n",
    "        tgt = batch['labels'].to(device)     # 장치로 이동\n",
    "\n",
    "        optimizer.zero_grad()\n",
    "        output = transformer(src, tgt[:, :])\n",
    "        loss = criterion(output.reshape(-1, tgt_vocab_size), tgt[:, :].reshape(-1))\n",
    "        loss.backward()\n",
    "        optimizer.step()\n",
    "        \n",
    "        total_loss += loss.item()\n",
    "\n",
    "    avg_loss = total_loss / len(dataloader)\n",
    "    print(f\"Epoch: {epoch}, Avg Loss: {avg_loss:.4f}\")\n",
    "end_time = time.time()\n",
    "print(f\"총 시간: {end_time - start_time} sec\")"
   ]
  }
 ],
 "metadata": {
  "kernelspec": {
   "display_name": "env01",
   "language": "python",
   "name": "python3"
  },
  "language_info": {
   "codemirror_mode": {
    "name": "ipython",
    "version": 3
   },
   "file_extension": ".py",
   "mimetype": "text/x-python",
   "name": "python",
   "nbconvert_exporter": "python",
   "pygments_lexer": "ipython3",
   "version": "3.11.7"
  }
 },
 "nbformat": 4,
 "nbformat_minor": 2
}
